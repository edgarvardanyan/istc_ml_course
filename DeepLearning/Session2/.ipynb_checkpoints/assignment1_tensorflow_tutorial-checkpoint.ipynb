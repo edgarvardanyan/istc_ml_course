{
 "cells": [
  {
   "cell_type": "markdown",
   "metadata": {},
   "source": [
    "# MNIST master\n",
    "\n",
    "For a demo we shall solve the same digit recognition problem, but at a different scale\n",
    "* images are now 28x28\n",
    "* 10 different digits\n",
    "* 50k samples"
   ]
  },
  {
   "cell_type": "markdown",
   "metadata": {},
   "source": [
    "Before doing this homework, read some code examples written in tensorflow. There is a good repository with code examples: https://github.com/aymericdamien/TensorFlow-Examples. As we already know, we need many samples to learn :)"
   ]
  },
  {
   "cell_type": "code",
   "execution_count": 1,
   "metadata": {},
   "outputs": [],
   "source": [
    "import numpy as np\n",
    "import matplotlib.pyplot as plt\n",
    "%matplotlib inline"
   ]
  },
  {
   "cell_type": "code",
   "execution_count": 2,
   "metadata": {},
   "outputs": [
    {
     "name": "stderr",
     "output_type": "stream",
     "text": [
      "C:\\ProgramData\\Anaconda3\\lib\\site-packages\\h5py\\__init__.py:36: FutureWarning: Conversion of the second argument of issubdtype from `float` to `np.floating` is deprecated. In future, it will be treated as `np.float64 == np.dtype(float).type`.\n",
      "  from ._conv import register_converters as _register_converters\n"
     ]
    }
   ],
   "source": [
    "import tensorflow as tf"
   ]
  },
  {
   "cell_type": "code",
   "execution_count": 3,
   "metadata": {},
   "outputs": [
    {
     "name": "stdout",
     "output_type": "stream",
     "text": [
      "(50000, 1, 28, 28) (50000,)\n"
     ]
    }
   ],
   "source": [
    "from mnist import load_dataset\n",
    "X_train,y_train,X_val,y_val,X_test,y_test = load_dataset()\n",
    "\n",
    "print(X_train.shape,y_train.shape)"
   ]
  },
  {
   "cell_type": "code",
   "execution_count": 4,
   "metadata": {},
   "outputs": [],
   "source": [
    "X_train = np.swapaxes(np.swapaxes(X_train, 1,2),2,3)\n",
    "X_val = np.swapaxes(np.swapaxes(X_val, 1,2),2,3)\n",
    "X_test = np.swapaxes(np.swapaxes(X_test, 1,2),2,3)"
   ]
  },
  {
   "cell_type": "code",
   "execution_count": 5,
   "metadata": {
    "scrolled": true
   },
   "outputs": [
    {
     "data": {
      "text/plain": [
       "(50000, 28, 28, 1)"
      ]
     },
     "execution_count": 5,
     "metadata": {},
     "output_type": "execute_result"
    }
   ],
   "source": [
    "X_train.shape"
   ]
  },
  {
   "cell_type": "code",
   "execution_count": 6,
   "metadata": {},
   "outputs": [],
   "source": [
    "#defining placeholders for input and target\n",
    "input_X = tf.placeholder(tf.float32, shape=[None, 28, 28, 1], \n",
    "                         name=\"X\")\n",
    "target_y = tf.placeholder(tf.int32, shape=[None], \n",
    "                          name=\"target_Y_integer\")"
   ]
  },
  {
   "cell_type": "markdown",
   "metadata": {},
   "source": [
    "Defining network architecture"
   ]
  },
  {
   "cell_type": "code",
   "execution_count": 7,
   "metadata": {},
   "outputs": [],
   "source": [
    "l1 = tf.layers.conv2d(inputs=input_X,\n",
    "                 filters=32,\n",
    "                 kernel_size=[5, 5],\n",
    "                 padding=\"same\",\n",
    "                 activation=tf.nn.relu)\n",
    "\n",
    "l2 = tf.layers.conv2d(inputs=l1,\n",
    "                 filters=32,\n",
    "                 kernel_size=[5, 5],\n",
    "                 padding=\"same\",\n",
    "                 activation=tf.nn.relu)\n",
    "\n",
    "l4 = tf.layers.max_pooling2d(inputs=l2,\n",
    "                            pool_size=[2, 2],\n",
    "                            strides=2)\n",
    "\n",
    "dropout1 = tf.layers.dropout(l4,rate=0.25)\n",
    "\n",
    "l5 = tf.layers.conv2d(inputs=dropout1,\n",
    "                        filters=64,\n",
    "                        kernel_size=[3, 3],\n",
    "                        padding=\"same\",\n",
    "                        activation=tf.nn.relu)\n",
    "\n",
    "l6 = tf.layers.conv2d(inputs=l5,\n",
    "                        filters=64,\n",
    "                        kernel_size=[3, 3],\n",
    "                        padding=\"same\",\n",
    "                        activation=tf.nn.relu)\n",
    "\n",
    "l7 = tf.layers.max_pooling2d(inputs=l6,\n",
    "                            pool_size=[2, 2],\n",
    "                            strides=2)\n",
    "\n",
    "dropout2 = tf.layers.dropout(l7,rate=0.25)\n",
    "\n",
    "input_X_reshaped = tf.layers.flatten(dropout2)\n",
    "\n",
    "# Fully connected layer, that takes input layer and applies 50 neurons \n",
    "# to it. Nonlinearity here is sigmoid as in logistic regression.\n",
    "# You can give a name to each layer (optional)\n",
    "dense1 = tf.layers.dense(input_X_reshaped, units=256,\n",
    "                    activation=tf.nn.relu)\n",
    "dense2 = tf.layers.dense(dense1, units=256,\n",
    "                    activation=tf.nn.relu)\n",
    "dense3 = tf.layers.dense(dense2, units=10, activation=None)\n",
    "\n",
    "# We use softmax nonlinearity to make probabilities add up to 1\n",
    "l_out = tf.nn.softmax(dense3)\n",
    "\n",
    "# Prediction\n",
    "y_predicted = tf.argmax(dense3, axis=-1)"
   ]
  },
  {
   "cell_type": "markdown",
   "metadata": {},
   "source": [
    "convolution1 = tf.layers.conv2d(input_X, 32, (5,5), padding = 'same', activation = tf.nn.relu)\n",
    "convolution2 = tf.layers.conv2d(convolution1, 32, (5,5), padding = 'same', activation = tf.nn.relu)\n",
    "pooling1 = tf.layers.max_pooling2d(convolution2, (2,2), (2,2), padding = 'same')\n",
    "dropout1 = tf.layers.dropout(pooling1, 0.25)\n",
    "convolution3 = tf.layers.conv2d(dropout1, 64, (3,3), padding = 'same', activation = tf.nn.relu)\n",
    "convolution4 = tf.layers.conv2d(convolution3, 64, (3,3), padding = 'same', activation = tf.nn.relu)\n",
    "pooling2 = tf.layers.max_pooling2d(convolution4, (2,2), (2,2), padding = 'same')\n",
    "dropout2 = tf.layers.dropout(pooling2, 0.25)\n",
    "flatten = tf.layers.flatten(dropout2)\n",
    "dense1 = tf.layers.dense(flatten, 256, tf.nn.relu)\n",
    "dropout3 = tf.layers.dropout(dense1, 0.5)\n",
    "dense2 = tf.layers.dense(dropout3, 10, tf.nn.relu)\n",
    "# We use softmax nonlinearity to make probabilities add up to 1\n",
    "l_out = tf.nn.softmax(dense2)\n",
    "\n",
    "# Prediction\n",
    "y_predicted = tf.argmax(dense2, axis=-1)"
   ]
  },
  {
   "cell_type": "code",
   "execution_count": 8,
   "metadata": {
    "scrolled": true
   },
   "outputs": [
    {
     "data": {
      "text/plain": [
       "[<tf.Variable 'conv2d/kernel:0' shape=(5, 5, 1, 32) dtype=float32_ref>,\n",
       " <tf.Variable 'conv2d/bias:0' shape=(32,) dtype=float32_ref>,\n",
       " <tf.Variable 'conv2d_1/kernel:0' shape=(5, 5, 32, 32) dtype=float32_ref>,\n",
       " <tf.Variable 'conv2d_1/bias:0' shape=(32,) dtype=float32_ref>,\n",
       " <tf.Variable 'conv2d_2/kernel:0' shape=(3, 3, 32, 64) dtype=float32_ref>,\n",
       " <tf.Variable 'conv2d_2/bias:0' shape=(64,) dtype=float32_ref>,\n",
       " <tf.Variable 'conv2d_3/kernel:0' shape=(3, 3, 64, 64) dtype=float32_ref>,\n",
       " <tf.Variable 'conv2d_3/bias:0' shape=(64,) dtype=float32_ref>,\n",
       " <tf.Variable 'dense/kernel:0' shape=(3136, 256) dtype=float32_ref>,\n",
       " <tf.Variable 'dense/bias:0' shape=(256,) dtype=float32_ref>,\n",
       " <tf.Variable 'dense_1/kernel:0' shape=(256, 256) dtype=float32_ref>,\n",
       " <tf.Variable 'dense_1/bias:0' shape=(256,) dtype=float32_ref>,\n",
       " <tf.Variable 'dense_2/kernel:0' shape=(256, 10) dtype=float32_ref>,\n",
       " <tf.Variable 'dense_2/bias:0' shape=(10,) dtype=float32_ref>]"
      ]
     },
     "execution_count": 8,
     "metadata": {},
     "output_type": "execute_result"
    }
   ],
   "source": [
    "weights = tf.trainable_variables()\n",
    "weights"
   ]
  },
  {
   "cell_type": "markdown",
   "metadata": {},
   "source": [
    "### Than you could simply\n",
    "* define loss function manually\n",
    "* compute error gradient over all weights\n",
    "* define updates\n",
    "* But that's a whole lot of work and life's short\n",
    "  * not to mention life's too short to wait for SGD to converge\n",
    "\n",
    "Instead, we shall use Tensorflow builtins"
   ]
  },
  {
   "cell_type": "code",
   "execution_count": 9,
   "metadata": {},
   "outputs": [],
   "source": [
    "# Mean categorical crossentropy as a loss function\n",
    "# - similar to logistic loss but for multiclass targets\n",
    "loss = tf.reduce_mean(tf.nn.sparse_softmax_cross_entropy_with_logits(\n",
    "    labels=target_y, logits=dense3, name=\"softmax_loss\"))"
   ]
  },
  {
   "cell_type": "code",
   "execution_count": 10,
   "metadata": {},
   "outputs": [
    {
     "data": {
      "text/plain": [
       "[<tf.Variable 'accuracy/total:0' shape=() dtype=float32_ref>,\n",
       " <tf.Variable 'accuracy/count:0' shape=() dtype=float32_ref>]"
      ]
     },
     "execution_count": 10,
     "metadata": {},
     "output_type": "execute_result"
    }
   ],
   "source": [
    "accuracy, update_accuracy = tf.metrics.accuracy(target_y, y_predicted)\n",
    "tf.local_variables()"
   ]
  },
  {
   "cell_type": "code",
   "execution_count": 21,
   "metadata": {},
   "outputs": [],
   "source": [
    "optimzer = tf.train.AdamOptimizer(learning_rate=0.0003)\n",
    "train_step = optimzer.minimize(loss)"
   ]
  },
  {
   "cell_type": "markdown",
   "metadata": {},
   "source": [
    "### That's all, now let's train it!\n",
    "* We got a lot of data, so it's recommended that you use SGD\n",
    "* So let's implement a function that splits the training sample into minibatches"
   ]
  },
  {
   "cell_type": "code",
   "execution_count": 12,
   "metadata": {},
   "outputs": [],
   "source": [
    "# An auxilary function that returns mini-batches for neural network training\n",
    "\n",
    "#Parameters\n",
    "# inputs - a tensor of images with shape (many, 1, 28, 28), e.g. X_train\n",
    "# outputs - a vector of answers for corresponding images e.g. Y_train\n",
    "#batch_size - a single number - the intended size of each batches\n",
    "\n",
    "def iterate_minibatches(inputs, targets, batchsize):\n",
    "    assert len(inputs) == len(targets)\n",
    "    indices = np.arange(len(inputs))\n",
    "    np.random.shuffle(indices)\n",
    "    for start_idx in range(0, len(inputs) - batchsize + 1, batchsize):\n",
    "        excerpt = indices[start_idx:start_idx + batchsize]\n",
    "        yield inputs[excerpt], targets[excerpt]"
   ]
  },
  {
   "cell_type": "markdown",
   "metadata": {},
   "source": [
    "# Training loop"
   ]
  },
  {
   "cell_type": "markdown",
   "metadata": {},
   "source": [
    "Model saver.\n",
    "<br>\n",
    "See more:\n",
    "http://cv-tricks.com/tensorflow-tutorial/save-restore-tensorflow-models-quick-complete-tutorial/"
   ]
  },
  {
   "cell_type": "code",
   "execution_count": 13,
   "metadata": {},
   "outputs": [],
   "source": [
    "model_path = \"./checkpoints/model.ckpt\"\n",
    "saver = tf.train.Saver(max_to_keep=3)"
   ]
  },
  {
   "cell_type": "code",
   "execution_count": 30,
   "metadata": {
    "scrolled": true
   },
   "outputs": [
    {
     "name": "stdout",
     "output_type": "stream",
     "text": [
      "INFO:tensorflow:Restoring parameters from ./checkpoints/model.ckpt-3\n",
      "Epoch 1 of 100 took 44.003s\n",
      "  training loss (in-iteration):\t\t0.000064\n",
      "  train accuracy:\t\t100.00 %\n",
      "  validation accuracy:\t\t99.37 %\n",
      "  Model saved in file: ./checkpoints/model.ckpt-0\n",
      "Epoch 2 of 100 took 43.912s\n",
      "  training loss (in-iteration):\t\t0.000275\n",
      "  train accuracy:\t\t99.99 %\n",
      "  validation accuracy:\t\t99.39 %\n",
      "  Model saved in file: ./checkpoints/model.ckpt-1\n",
      "Epoch 3 of 100 took 43.143s\n",
      "  training loss (in-iteration):\t\t0.000210\n",
      "  train accuracy:\t\t99.99 %\n",
      "  validation accuracy:\t\t99.38 %\n",
      "  Model saved in file: ./checkpoints/model.ckpt-2\n",
      "Epoch 4 of 100 took 42.695s\n",
      "  training loss (in-iteration):\t\t0.000121\n",
      "  train accuracy:\t\t100.00 %\n",
      "  validation accuracy:\t\t99.40 %\n",
      "  Model saved in file: ./checkpoints/model.ckpt-3\n",
      "Epoch 5 of 100 took 43.572s\n",
      "  training loss (in-iteration):\t\t0.000174\n",
      "  train accuracy:\t\t99.99 %\n",
      "  validation accuracy:\t\t99.42 %\n",
      "  Model saved in file: ./checkpoints/model.ckpt-4\n",
      "Epoch 6 of 100 took 42.663s\n",
      "  training loss (in-iteration):\t\t0.000028\n",
      "  train accuracy:\t\t100.00 %\n",
      "  validation accuracy:\t\t99.41 %\n",
      "  Model saved in file: ./checkpoints/model.ckpt-5\n"
     ]
    },
    {
     "ename": "KeyboardInterrupt",
     "evalue": "",
     "output_type": "error",
     "traceback": [
      "\u001b[1;31m---------------------------------------------------------------------------\u001b[0m",
      "\u001b[1;31mKeyboardInterrupt\u001b[0m                         Traceback (most recent call last)",
      "\u001b[1;32m<ipython-input-30-4d6222f4b421>\u001b[0m in \u001b[0;36m<module>\u001b[1;34m()\u001b[0m\n\u001b[0;32m     21\u001b[0m             _, train_err_batch, _ = sess.run(\n\u001b[0;32m     22\u001b[0m                 \u001b[1;33m[\u001b[0m\u001b[0mtrain_step\u001b[0m\u001b[1;33m,\u001b[0m \u001b[0mloss\u001b[0m\u001b[1;33m,\u001b[0m \u001b[0mupdate_accuracy\u001b[0m\u001b[1;33m]\u001b[0m\u001b[1;33m,\u001b[0m\u001b[1;33m\u001b[0m\u001b[0m\n\u001b[1;32m---> 23\u001b[1;33m                 \u001b[0mfeed_dict\u001b[0m\u001b[1;33m=\u001b[0m\u001b[1;33m{\u001b[0m\u001b[0minput_X\u001b[0m\u001b[1;33m:\u001b[0m \u001b[0minputs\u001b[0m\u001b[1;33m,\u001b[0m \u001b[0mtarget_y\u001b[0m\u001b[1;33m:\u001b[0m\u001b[0mtargets\u001b[0m\u001b[1;33m}\u001b[0m\u001b[1;33m\u001b[0m\u001b[0m\n\u001b[0m\u001b[0;32m     24\u001b[0m             )\n\u001b[0;32m     25\u001b[0m             \u001b[0mtrain_err\u001b[0m \u001b[1;33m+=\u001b[0m \u001b[0mtrain_err_batch\u001b[0m\u001b[1;33m\u001b[0m\u001b[0m\n",
      "\u001b[1;32mC:\\ProgramData\\Anaconda3\\lib\\site-packages\\tensorflow\\python\\client\\session.py\u001b[0m in \u001b[0;36mrun\u001b[1;34m(self, fetches, feed_dict, options, run_metadata)\u001b[0m\n\u001b[0;32m    898\u001b[0m     \u001b[1;32mtry\u001b[0m\u001b[1;33m:\u001b[0m\u001b[1;33m\u001b[0m\u001b[0m\n\u001b[0;32m    899\u001b[0m       result = self._run(None, fetches, feed_dict, options_ptr,\n\u001b[1;32m--> 900\u001b[1;33m                          run_metadata_ptr)\n\u001b[0m\u001b[0;32m    901\u001b[0m       \u001b[1;32mif\u001b[0m \u001b[0mrun_metadata\u001b[0m\u001b[1;33m:\u001b[0m\u001b[1;33m\u001b[0m\u001b[0m\n\u001b[0;32m    902\u001b[0m         \u001b[0mproto_data\u001b[0m \u001b[1;33m=\u001b[0m \u001b[0mtf_session\u001b[0m\u001b[1;33m.\u001b[0m\u001b[0mTF_GetBuffer\u001b[0m\u001b[1;33m(\u001b[0m\u001b[0mrun_metadata_ptr\u001b[0m\u001b[1;33m)\u001b[0m\u001b[1;33m\u001b[0m\u001b[0m\n",
      "\u001b[1;32mC:\\ProgramData\\Anaconda3\\lib\\site-packages\\tensorflow\\python\\client\\session.py\u001b[0m in \u001b[0;36m_run\u001b[1;34m(self, handle, fetches, feed_dict, options, run_metadata)\u001b[0m\n\u001b[0;32m   1133\u001b[0m     \u001b[1;32mif\u001b[0m \u001b[0mfinal_fetches\u001b[0m \u001b[1;32mor\u001b[0m \u001b[0mfinal_targets\u001b[0m \u001b[1;32mor\u001b[0m \u001b[1;33m(\u001b[0m\u001b[0mhandle\u001b[0m \u001b[1;32mand\u001b[0m \u001b[0mfeed_dict_tensor\u001b[0m\u001b[1;33m)\u001b[0m\u001b[1;33m:\u001b[0m\u001b[1;33m\u001b[0m\u001b[0m\n\u001b[0;32m   1134\u001b[0m       results = self._do_run(handle, final_targets, final_fetches,\n\u001b[1;32m-> 1135\u001b[1;33m                              feed_dict_tensor, options, run_metadata)\n\u001b[0m\u001b[0;32m   1136\u001b[0m     \u001b[1;32melse\u001b[0m\u001b[1;33m:\u001b[0m\u001b[1;33m\u001b[0m\u001b[0m\n\u001b[0;32m   1137\u001b[0m       \u001b[0mresults\u001b[0m \u001b[1;33m=\u001b[0m \u001b[1;33m[\u001b[0m\u001b[1;33m]\u001b[0m\u001b[1;33m\u001b[0m\u001b[0m\n",
      "\u001b[1;32mC:\\ProgramData\\Anaconda3\\lib\\site-packages\\tensorflow\\python\\client\\session.py\u001b[0m in \u001b[0;36m_do_run\u001b[1;34m(self, handle, target_list, fetch_list, feed_dict, options, run_metadata)\u001b[0m\n\u001b[0;32m   1314\u001b[0m     \u001b[1;32mif\u001b[0m \u001b[0mhandle\u001b[0m \u001b[1;32mis\u001b[0m \u001b[1;32mNone\u001b[0m\u001b[1;33m:\u001b[0m\u001b[1;33m\u001b[0m\u001b[0m\n\u001b[0;32m   1315\u001b[0m       return self._do_call(_run_fn, feeds, fetches, targets, options,\n\u001b[1;32m-> 1316\u001b[1;33m                            run_metadata)\n\u001b[0m\u001b[0;32m   1317\u001b[0m     \u001b[1;32melse\u001b[0m\u001b[1;33m:\u001b[0m\u001b[1;33m\u001b[0m\u001b[0m\n\u001b[0;32m   1318\u001b[0m       \u001b[1;32mreturn\u001b[0m \u001b[0mself\u001b[0m\u001b[1;33m.\u001b[0m\u001b[0m_do_call\u001b[0m\u001b[1;33m(\u001b[0m\u001b[0m_prun_fn\u001b[0m\u001b[1;33m,\u001b[0m \u001b[0mhandle\u001b[0m\u001b[1;33m,\u001b[0m \u001b[0mfeeds\u001b[0m\u001b[1;33m,\u001b[0m \u001b[0mfetches\u001b[0m\u001b[1;33m)\u001b[0m\u001b[1;33m\u001b[0m\u001b[0m\n",
      "\u001b[1;32mC:\\ProgramData\\Anaconda3\\lib\\site-packages\\tensorflow\\python\\client\\session.py\u001b[0m in \u001b[0;36m_do_call\u001b[1;34m(self, fn, *args)\u001b[0m\n\u001b[0;32m   1320\u001b[0m   \u001b[1;32mdef\u001b[0m \u001b[0m_do_call\u001b[0m\u001b[1;33m(\u001b[0m\u001b[0mself\u001b[0m\u001b[1;33m,\u001b[0m \u001b[0mfn\u001b[0m\u001b[1;33m,\u001b[0m \u001b[1;33m*\u001b[0m\u001b[0margs\u001b[0m\u001b[1;33m)\u001b[0m\u001b[1;33m:\u001b[0m\u001b[1;33m\u001b[0m\u001b[0m\n\u001b[0;32m   1321\u001b[0m     \u001b[1;32mtry\u001b[0m\u001b[1;33m:\u001b[0m\u001b[1;33m\u001b[0m\u001b[0m\n\u001b[1;32m-> 1322\u001b[1;33m       \u001b[1;32mreturn\u001b[0m \u001b[0mfn\u001b[0m\u001b[1;33m(\u001b[0m\u001b[1;33m*\u001b[0m\u001b[0margs\u001b[0m\u001b[1;33m)\u001b[0m\u001b[1;33m\u001b[0m\u001b[0m\n\u001b[0m\u001b[0;32m   1323\u001b[0m     \u001b[1;32mexcept\u001b[0m \u001b[0merrors\u001b[0m\u001b[1;33m.\u001b[0m\u001b[0mOpError\u001b[0m \u001b[1;32mas\u001b[0m \u001b[0me\u001b[0m\u001b[1;33m:\u001b[0m\u001b[1;33m\u001b[0m\u001b[0m\n\u001b[0;32m   1324\u001b[0m       \u001b[0mmessage\u001b[0m \u001b[1;33m=\u001b[0m \u001b[0mcompat\u001b[0m\u001b[1;33m.\u001b[0m\u001b[0mas_text\u001b[0m\u001b[1;33m(\u001b[0m\u001b[0me\u001b[0m\u001b[1;33m.\u001b[0m\u001b[0mmessage\u001b[0m\u001b[1;33m)\u001b[0m\u001b[1;33m\u001b[0m\u001b[0m\n",
      "\u001b[1;32mC:\\ProgramData\\Anaconda3\\lib\\site-packages\\tensorflow\\python\\client\\session.py\u001b[0m in \u001b[0;36m_run_fn\u001b[1;34m(feed_dict, fetch_list, target_list, options, run_metadata)\u001b[0m\n\u001b[0;32m   1305\u001b[0m       \u001b[0mself\u001b[0m\u001b[1;33m.\u001b[0m\u001b[0m_extend_graph\u001b[0m\u001b[1;33m(\u001b[0m\u001b[1;33m)\u001b[0m\u001b[1;33m\u001b[0m\u001b[0m\n\u001b[0;32m   1306\u001b[0m       return self._call_tf_sessionrun(\n\u001b[1;32m-> 1307\u001b[1;33m           options, feed_dict, fetch_list, target_list, run_metadata)\n\u001b[0m\u001b[0;32m   1308\u001b[0m \u001b[1;33m\u001b[0m\u001b[0m\n\u001b[0;32m   1309\u001b[0m     \u001b[1;32mdef\u001b[0m \u001b[0m_prun_fn\u001b[0m\u001b[1;33m(\u001b[0m\u001b[0mhandle\u001b[0m\u001b[1;33m,\u001b[0m \u001b[0mfeed_dict\u001b[0m\u001b[1;33m,\u001b[0m \u001b[0mfetch_list\u001b[0m\u001b[1;33m)\u001b[0m\u001b[1;33m:\u001b[0m\u001b[1;33m\u001b[0m\u001b[0m\n",
      "\u001b[1;32mC:\\ProgramData\\Anaconda3\\lib\\site-packages\\tensorflow\\python\\client\\session.py\u001b[0m in \u001b[0;36m_call_tf_sessionrun\u001b[1;34m(self, options, feed_dict, fetch_list, target_list, run_metadata)\u001b[0m\n\u001b[0;32m   1407\u001b[0m       return tf_session.TF_SessionRun_wrapper(\n\u001b[0;32m   1408\u001b[0m           \u001b[0mself\u001b[0m\u001b[1;33m.\u001b[0m\u001b[0m_session\u001b[0m\u001b[1;33m,\u001b[0m \u001b[0moptions\u001b[0m\u001b[1;33m,\u001b[0m \u001b[0mfeed_dict\u001b[0m\u001b[1;33m,\u001b[0m \u001b[0mfetch_list\u001b[0m\u001b[1;33m,\u001b[0m \u001b[0mtarget_list\u001b[0m\u001b[1;33m,\u001b[0m\u001b[1;33m\u001b[0m\u001b[0m\n\u001b[1;32m-> 1409\u001b[1;33m           run_metadata)\n\u001b[0m\u001b[0;32m   1410\u001b[0m     \u001b[1;32melse\u001b[0m\u001b[1;33m:\u001b[0m\u001b[1;33m\u001b[0m\u001b[0m\n\u001b[0;32m   1411\u001b[0m       \u001b[1;32mwith\u001b[0m \u001b[0merrors\u001b[0m\u001b[1;33m.\u001b[0m\u001b[0mraise_exception_on_not_ok_status\u001b[0m\u001b[1;33m(\u001b[0m\u001b[1;33m)\u001b[0m \u001b[1;32mas\u001b[0m \u001b[0mstatus\u001b[0m\u001b[1;33m:\u001b[0m\u001b[1;33m\u001b[0m\u001b[0m\n",
      "\u001b[1;31mKeyboardInterrupt\u001b[0m: "
     ]
    }
   ],
   "source": [
    "import time\n",
    "\n",
    "num_epochs = 100 # amount of passes through the data\n",
    "\n",
    "batch_size = 528 # number of samples processed at each function call\n",
    "\n",
    "with tf.Session() as sess:\n",
    "    # initialize global wariables\n",
    "    sess.run(tf.global_variables_initializer())\n",
    "    load_path = saver.restore(sess, saver.last_checkpoints[-1])\n",
    "    \n",
    "    for epoch in range(num_epochs):\n",
    "        # In each epoch, we do a full pass over the training data:\n",
    "        train_err = 0\n",
    "        train_batches = 0\n",
    "        start_time = time.time()        \n",
    "        sess.run(tf.local_variables_initializer())\n",
    "        for batch in iterate_minibatches(X_train, y_train,batch_size):\n",
    "            inputs, targets = batch\n",
    "\n",
    "            _, train_err_batch, _ = sess.run(\n",
    "                [train_step, loss, update_accuracy], \n",
    "                feed_dict={input_X: inputs, target_y:targets}\n",
    "            )\n",
    "            train_err += train_err_batch\n",
    "            train_batches += 1\n",
    "        train_acc = sess.run(accuracy)\n",
    "\n",
    "        # And a full pass over the validation data:\n",
    "        sess.run(tf.local_variables_initializer())\n",
    "        for batch in iterate_minibatches(X_val, y_val, batch_size):\n",
    "            inputs, targets = batch\n",
    "            sess.run(update_accuracy, feed_dict={input_X: inputs, \n",
    "                                                 target_y:targets})\n",
    "        val_acc = sess.run(accuracy)\n",
    "\n",
    "\n",
    "        # Then we print the results for this epoch:\n",
    "        print(\"Epoch {} of {} took {:.3f}s\".format(\n",
    "            epoch + 1, num_epochs, time.time() - start_time))\n",
    "\n",
    "        print(\"  training loss (in-iteration):\\t\\t{:.6f}\".format(train_err / train_batches))\n",
    "        print(\"  train accuracy:\\t\\t{:.2f} %\".format(\n",
    "            train_acc * 100))\n",
    "        print(\"  validation accuracy:\\t\\t{:.2f} %\".format(\n",
    "            val_acc * 100))\n",
    "        \n",
    "        # save model\n",
    "        save_path = saver.save(sess, model_path, global_step=epoch)\n",
    "        print(\"  Model saved in file: %s\" % save_path)\n",
    "        batch_size += 128"
   ]
  },
  {
   "cell_type": "markdown",
   "metadata": {},
   "source": [
    "Now we can restore saved parameters:"
   ]
  },
  {
   "cell_type": "code",
   "execution_count": 31,
   "metadata": {},
   "outputs": [
    {
     "name": "stdout",
     "output_type": "stream",
     "text": [
      "INFO:tensorflow:Restoring parameters from ./checkpoints/model.ckpt-5\n",
      "Model restored from file: ./checkpoints/model.ckpt-5\n",
      "Final results:\n",
      "  test accuracy:\t\t99.38 %\n",
      "We need more magic!\n"
     ]
    }
   ],
   "source": [
    "with tf.Session() as sess:\n",
    "    sess.run(tf.global_variables_initializer())\n",
    "    load_path = saver.restore(sess, saver.last_checkpoints[-1])\n",
    "    print(\"Model restored from file: %s\" % save_path)\n",
    "    \n",
    "    sess.run(tf.local_variables_initializer())\n",
    "    for batch in iterate_minibatches(X_test, y_test, 500):\n",
    "        inputs, targets = batch\n",
    "        sess.run(update_accuracy, feed_dict={input_X: inputs, \n",
    "                                                   target_y:targets})\n",
    "    test_acc = sess.run(accuracy)\n",
    "    print(\"Final results:\")\n",
    "    print(\"  test accuracy:\\t\\t{:.2f} %\".format(\n",
    "        test_acc* 100))\n",
    "\n",
    "    if test_acc * 100 > 99.5:\n",
    "        print (\"Achievement unlocked: 80lvl Warlock!\")\n",
    "    else:\n",
    "        print (\"We need more magic!\")"
   ]
  },
  {
   "cell_type": "markdown",
   "metadata": {
    "collapsed": true
   },
   "source": [
    "# Now improve it!\n",
    "\n",
    "* Moar layers!\n",
    "* Moar units!\n",
    "* Different nonlinearities!"
   ]
  }
 ],
 "metadata": {
  "kernelspec": {
   "display_name": "Python 3",
   "language": "python",
   "name": "python3"
  },
  "language_info": {
   "codemirror_mode": {
    "name": "ipython",
    "version": 3
   },
   "file_extension": ".py",
   "mimetype": "text/x-python",
   "name": "python",
   "nbconvert_exporter": "python",
   "pygments_lexer": "ipython3",
   "version": "3.6.4"
  }
 },
 "nbformat": 4,
 "nbformat_minor": 1
}
